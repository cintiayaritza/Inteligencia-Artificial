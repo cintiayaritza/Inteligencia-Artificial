{
  "nbformat": 4,
  "nbformat_minor": 0,
  "metadata": {
    "colab": {
      "provenance": [],
      "authorship_tag": "ABX9TyMAVEIIeq4FD9HxYV/XJrWG",
      "include_colab_link": true
    },
    "kernelspec": {
      "name": "python3",
      "display_name": "Python 3"
    },
    "language_info": {
      "name": "python"
    }
  },
  "cells": [
    {
      "cell_type": "markdown",
      "metadata": {
        "id": "view-in-github",
        "colab_type": "text"
      },
      "source": [
        "<a href=\"https://colab.research.google.com/github/cintiayaritza/Inteligencia-Artificial/blob/master/IT0425_Tarea_1_2b_Perceptr%C3%B3n_Equipo8.ipynb\" target=\"_parent\"><img src=\"https://colab.research.google.com/assets/colab-badge.svg\" alt=\"Open In Colab\"/></a>"
      ]
    },
    {
      "cell_type": "markdown",
      "source": [
        "# IT0425 - Introducción a la Inteligencia Artificial\n",
        "# Tarea 1.2b Percetron\n",
        "**EQUIPO 8**\n",
        "INTEGRANTES\n",
        "$$\n",
        "    \\color{black} {JOSE LEONARDO TAMAY BALAM}  \"Capitan\"\n",
        "$$\n",
        "\n",
        "$$\n",
        "    Matricula:\n",
        "    \\color{pink}{190300451 }\n",
        "$$\n",
        "\n",
        "$$\n",
        "    \\color{black}{BARRIENTOS HIDALGO ANGEL ALEXANDER}\n",
        "$$\n",
        "\n",
        "$$\n",
        "    Matricula:\n",
        "    \\color{pink}{200300628}\n",
        "$$\n",
        "\n",
        "$$\n",
        "    \\color{black}{CINTYA YARITZA PACHECO MEX}\n",
        "$$\n",
        "\n",
        "$$\n",
        "    Matricula:\n",
        "    \\color{pink}{190300003}\n",
        "$$\n",
        "\n",
        "$$\n",
        "    \\color{black}{AXEL JOEL ALVAREZ CASTRO }\n",
        "$$\n",
        "\n",
        "$$\n",
        "    Matricula:\n",
        "    \\color{pink}{200300632 }\n",
        "$$\n",
        "\n",
        "\n"
      ],
      "metadata": {
        "id": "C_Qkjs7Xd44I"
      }
    },
    {
      "cell_type": "markdown",
      "source": [
        "El objetivo de este trabajo es realiza por medio de la base de datos **make Classification**.\n",
        "\n",
        "El Clasificador de Perceptrón es un algoritmo lineal que puede aplicarse a tareas de clasificación binaria.\n",
        "Cómo encajar, evaluar y hacer predicciones con el modelo Perceptron con **Scikit-Learn**."
      ],
      "metadata": {
        "id": "zf7cxWs2hVGx"
      }
    },
    {
      "cell_type": "markdown",
      "source": [
        "Para comenzar la actividad primero importaremos las biblioteca que utilizaremos en la actividad para entrenar nuestro conjunto de datos y tambien se incluira las bibliotecas sklearn para hacer las interacciones por el percetron y fit conjunto de prediccion."
      ],
      "metadata": {
        "id": "93nYvqVPjvI4"
      }
    },
    {
      "cell_type": "code",
      "source": [
        "import numpy as np\n",
        "import numpy as std\n",
        "import pandas as pd\n",
        "import os\n",
        "import matplotlib.pyplot as plt"
      ],
      "metadata": {
        "id": "_J8xqHI4d2eX"
      },
      "execution_count": 28,
      "outputs": []
    },
    {
      "cell_type": "code",
      "source": [
        "from sklearn.linear_model import Perceptron\n",
        "\n",
        "from sklearn.datasets import make_classification\n",
        "from sklearn.linear_model import Perceptron\n",
        "from sklearn.model_selection import train_test_split"
      ],
      "metadata": {
        "id": "CGT-Yo_2u4Ob"
      },
      "execution_count": 95,
      "outputs": []
    },
    {
      "cell_type": "markdown",
      "source": [
        " Estaremos realizado el  trabajado con las 500 pruebas que indica el ejercicio y con 8 caracteristisca en el conjunto de datos make_classification."
      ],
      "metadata": {
        "id": "6SQJiN5ivIiQ"
      }
    },
    {
      "cell_type": "code",
      "source": [
        "X, y= make_classification(n_samples=500, n_features=8, n_informative=8, n_redundant=0, random_state=1, n_classes=2)"
      ],
      "metadata": {
        "id": "1xnj8V6IvNaZ"
      },
      "execution_count": 38,
      "outputs": []
    },
    {
      "cell_type": "code",
      "source": [
        "print(\"Número de muestras: \",len(X),\"\\n\")\n",
        "print(X)\n"
      ],
      "metadata": {
        "id": "_c_UupK4vcUQ",
        "outputId": "fb1ba8e2-a6c8-4c9c-bbef-030af659a5b4",
        "colab": {
          "base_uri": "https://localhost:8080/"
        }
      },
      "execution_count": 39,
      "outputs": [
        {
          "output_type": "stream",
          "name": "stdout",
          "text": [
            "Número de muestras:  500 \n",
            "\n",
            "[[ 1.31139501  2.98254076  1.43989922 ... -0.14994868  4.58531953\n",
            "   1.62946499]\n",
            " [-1.01035289 -1.78573734 -3.1577193  ... -3.4332917  -1.36188874\n",
            "   2.54417961]\n",
            " [-1.41072709  0.56818437  1.8056392  ...  1.93423391  4.23979975\n",
            "  -1.87993256]\n",
            " ...\n",
            " [-0.30105693  1.76168058 -2.93090696 ...  1.41486265  2.26255591\n",
            "  -2.2737635 ]\n",
            " [ 1.39185767  1.61374116  0.03189825 ...  1.6676807  -0.60455999\n",
            "  -0.26712471]\n",
            " [-3.00608885 -0.25991522  0.79909945 ...  0.46884387 -2.14785404\n",
            "  -1.19297674]]\n"
          ]
        }
      ]
    },
    {
      "cell_type": "code",
      "source": [
        "\n",
        "print(y)\n",
        "print(\"\\nNúmero de muestras clasificadas: \",len(y))\n",
        "print(\"Número de muestras clase-1: \",sum(y))\n",
        "print(\"Número de muestras clase-0: \",len(y)-sum(y))\n"
      ],
      "metadata": {
        "colab": {
          "base_uri": "https://localhost:8080/"
        },
        "id": "Vx-yT4rOx-Ve",
        "outputId": "18c19c82-a8f4-40f5-da72-cc98ef085ad7"
      },
      "execution_count": 40,
      "outputs": [
        {
          "output_type": "stream",
          "name": "stdout",
          "text": [
            "[1 1 0 1 0 0 0 0 1 0 0 1 0 1 0 0 0 1 0 0 1 1 0 0 1 0 1 0 0 1 1 1 0 1 0 1 1\n",
            " 1 0 1 0 0 1 0 0 0 1 0 0 1 0 0 1 1 1 0 0 1 1 1 1 1 1 1 1 1 0 0 1 0 1 1 1 0\n",
            " 1 1 1 0 1 1 0 0 1 0 1 0 1 1 0 0 0 0 1 0 0 1 0 0 1 0 0 0 0 1 1 0 0 0 1 1 1\n",
            " 0 0 1 0 1 0 1 0 1 0 1 1 0 0 1 0 1 1 1 1 1 0 1 0 1 1 1 0 1 1 1 1 0 1 1 1 1\n",
            " 0 0 1 1 1 0 0 0 1 1 0 0 1 1 0 0 0 1 0 1 0 1 0 1 0 0 0 0 1 1 1 0 1 0 0 0 0\n",
            " 0 0 0 0 1 0 1 1 0 0 1 1 1 1 0 0 0 0 1 1 0 0 0 1 0 1 1 0 1 0 1 0 0 1 0 0 1\n",
            " 0 1 0 0 1 0 0 1 1 0 0 0 1 1 1 0 1 0 0 0 1 0 0 0 1 0 0 1 1 0 0 1 0 1 1 0 0\n",
            " 0 0 1 0 0 1 0 0 1 0 1 1 1 1 1 1 0 0 1 0 1 1 0 0 0 1 1 1 1 0 1 0 0 0 1 0 1\n",
            " 0 0 0 0 1 1 0 0 0 1 1 1 0 1 0 1 0 1 0 1 1 1 0 0 1 1 1 1 0 0 1 1 1 1 1 0 1\n",
            " 1 1 0 1 0 0 0 1 1 1 1 0 1 1 1 1 0 1 1 1 0 0 1 1 1 1 1 1 0 1 1 1 0 0 1 0 0\n",
            " 0 0 1 1 1 0 1 0 0 0 0 0 0 0 0 0 1 0 1 1 1 1 0 1 0 0 1 1 0 1 0 1 1 1 1 1 0\n",
            " 1 0 1 0 0 1 0 1 1 1 1 1 1 0 1 0 1 0 0 1 1 1 0 0 0 0 0 0 0 0 0 0 0 0 1 0 0\n",
            " 1 1 0 0 1 0 1 1 0 0 1 0 0 1 1 1 1 0 0 0 0 1 0 1 0 0 0 0 1 1 1 1 0 0 0 1 0\n",
            " 0 0 0 1 1 1 1 1 1 0 0 1 1 0 0 1 0 0 1]\n",
            "\n",
            "Número de muestras clasificadas:  500\n",
            "Número de muestras clase-1:  249\n",
            "Número de muestras clase-0:  251\n"
          ]
        }
      ]
    },
    {
      "cell_type": "markdown",
      "source": [
        "# Perceptron\n",
        "El perceptron es un modelo limitado pues las regiones de separacion de clase es lineal y para muchas aplicaciones esto no es suficiente\n",
        "![image.png](data:image/png;base64,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)\n"
      ],
      "metadata": {
        "id": "DtaPW41Vo7jF"
      }
    },
    {
      "cell_type": "markdown",
      "source": [
        "como funcional el perceptron Consiste en un único nodo o neurona que toma una fila de datos como entrada y predice una etiqueta de clase. Esto se consigue calculando la suma ponderada de las entradas y un sesgo (establecido en 1). La suma ponderada de la entrada del modelo se denomina activación.\n"
      ],
      "metadata": {
        "id": "uPlJJjYGuDf-"
      }
    },
    {
      "cell_type": "code",
      "source": [],
      "metadata": {
        "id": "es284jlu9k0I"
      },
      "execution_count": null,
      "outputs": []
    },
    {
      "cell_type": "markdown",
      "source": [
        "se va crear una clase que va hacer los calculo de percentron como funcional esta red neuronal linea.\n",
        "\n"
      ],
      "metadata": {
        "id": "pZ63w36h9t3_"
      }
    },
    {
      "cell_type": "code",
      "source": [
        "class Perceptron:\n",
        "    \"\"\"Clasificador Perceptron\n",
        "\n",
        "    Parametros\n",
        "    ----------\n",
        "\n",
        "    eta: float\n",
        "        Tasa de aprendizaje.\n",
        "    n_iter: int\n",
        "        Pasadas sobre el dataset.\n",
        "\n",
        "    Atributos\n",
        "    ---------\n",
        "    w_: array-1d\n",
        "        Pesos actualizados después del ajuste\n",
        "    errors_: list\n",
        "        Cantidad de errores de clasificación en cada pasada\n",
        "\n",
        "    \"\"\"\n",
        "    def __init__(self, eta=0.1, n_iter=10):\n",
        "        self.eta = eta\n",
        "        self.n_iter = n_iter\n",
        "\n",
        "    def fit(self, X, y):\n",
        "        \"\"\"Ajustar datos de entrenamiento\n",
        "\n",
        "        Parámetros\n",
        "        ----------\n",
        "        X:  array like, forma = [n_samples, n_features]\n",
        "            Vectores de entrenamiento donde n_samples es el número de muestras y\n",
        "            n_features es el número de carácteristicas de cada muestra.\n",
        "        y:  array-like, forma = [n_samples].\n",
        "            Valores de destino\n",
        "\n",
        "        Returns\n",
        "        -------\n",
        "        self:   object\n",
        "        \"\"\"\n",
        "        self.w_ = np.zeros(1 + X.shape[1])\n",
        "        self.errors_ = []\n",
        "\n",
        "        for _ in range(self.n_iter):\n",
        "            errors = 0\n",
        "            for xi, target in zip(X, y):\n",
        "                update = self.eta * (target - self.predict(xi))\n",
        "                self.w_[1:] += update * xi\n",
        "                self.w_[0] += update\n",
        "                errors += int(update != 0.0)\n",
        "            self.errors_.append(errors)\n",
        "        return self\n",
        "\n",
        "    def predict(self, X):\n",
        "        \"\"\"Devolver clase usando función escalón de Heaviside.\n",
        "        phi(z) = 1 si z >= theta; -1 en otro caso\n",
        "        \"\"\"\n",
        "        phi = np.where(self.net_input(X) >= 0.0, 1, -1)\n",
        "        return phi\n",
        "\n",
        "    def net_input(self, X):\n",
        "        \"\"\"Calcular el valor z (net input)\"\"\"\n",
        "        # z = w · x + theta\n",
        "        z = np.dot(X, self.w_[1:]) + self.w_[0]\n",
        "        return z\n"
      ],
      "metadata": {
        "id": "DLYhaxBao8XJ"
      },
      "execution_count": 79,
      "outputs": []
    },
    {
      "cell_type": "markdown",
      "source": [],
      "metadata": {
        "id": "S9n6vgsYpLYk"
      }
    },
    {
      "cell_type": "code",
      "source": [
        "# Inicializamos el perceptron\n",
        "modelo = Perceptron(eta=0.1, n_iter=10)\n",
        "\n",
        "# Lo entrenamos con los vectores X e y\n",
        "modelo.fit(X, y)\n",
        "# Graficamos el número de errores en cada iteración\n",
        "plt.plot(range(1, len(modelo.errors_) + 1), modelo.errors_, marker='o')\n",
        "plt.xlabel('Epochs')\n",
        "plt.ylabel('Número de actualizaciones')\n",
        "\n",
        "plt.tight_layout()\n",
        "plt.show()\n"
      ],
      "metadata": {
        "colab": {
          "base_uri": "https://localhost:8080/",
          "height": 487
        },
        "id": "sgYU72aHpNSL",
        "outputId": "a16f4e6c-02e0-40d3-b225-a19cfd59221f"
      },
      "execution_count": 82,
      "outputs": [
        {
          "output_type": "display_data",
          "data": {
            "text/plain": [
              "<Figure size 640x480 with 1 Axes>"
            ],
            "image/png": "[encoded data removed]"
          },
          "metadata": {}
        }
      ]
    },
    {
      "cell_type": "markdown",
      "source": [
        "Una vez entrenado, pueden ver los valores del modelo imprimiendo las principales variables:"
      ],
      "metadata": {
        "id": "dIJpRGNmpWb5"
      }
    },
    {
      "cell_type": "code",
      "source": [
        "print(\"Theta: \" + str(modelo.w_[0]))\n",
        "print(\"W: \" + str(modelo.w_[1:]))\n",
        "print(\"X: []\")\n",
        "print(\"z = W · X\")\n",
        "print(\"phi(z) = 1 si z &gt;= theta; -1 c.o.c\")"
      ],
      "metadata": {
        "colab": {
          "base_uri": "https://localhost:8080/"
        },
        "id": "ARbtvLE_pWw2",
        "outputId": "560cf3b6-6d4d-4537-fec4-3faadcaad1fd"
      },
      "execution_count": 43,
      "outputs": [
        {
          "output_type": "stream",
          "name": "stdout",
          "text": [
            "Theta: 2.3999999999999786\n",
            "W: [-0.650674   -0.79480097 -0.12490902  0.20468756 -0.21272397 -0.11541643\n",
            " -0.25254228  0.52572381]\n",
            "X: []\n",
            "z = W · X\n",
            "phi(z) = 1 si z &gt;= theta; -1 c.o.c\n"
          ]
        }
      ]
    },
    {
      "cell_type": "markdown",
      "source": [
        "Para entrenar nuestro modelo debe tener en cuenta si esta funcinando adecuadamente separemos el conjunto de entrenamiento y el conjunto de prueba.\n",
        "\n",
        "obtener un subconjunto de datos entrenamiento 80% y prueba 20%\n",
        "\n",
        "\n",
        "\n"
      ],
      "metadata": {
        "id": "vuzB1QjMyE1A"
      }
    },
    {
      "cell_type": "code",
      "source": [
        "prueba = [0.650674,-0.79480097,-0.12490902,-0.20468756, -0.21272397, -0.11541643, -0.25254228, 0.52572381]\n",
        "print(prueba)"
      ],
      "metadata": {
        "colab": {
          "base_uri": "https://localhost:8080/"
        },
        "id": "MHFCYgEIpep2",
        "outputId": "ac7287df-53bf-44a3-bfc3-e310e5eee8c3"
      },
      "execution_count": 83,
      "outputs": [
        {
          "output_type": "stream",
          "name": "stdout",
          "text": [
            "[0.650674, -0.79480097, -0.12490902, -0.20468756, -0.21272397, -0.11541643, -0.25254228, 0.52572381]\n"
          ]
        }
      ]
    },
    {
      "cell_type": "code",
      "source": [
        "y_pred =modelo.predict([prueba])"
      ],
      "metadata": {
        "id": "91u4BsItpjVN"
      },
      "execution_count": 84,
      "outputs": []
    },
    {
      "cell_type": "code",
      "source": [
        "print('Clase predecida: %d' % y_pred)"
      ],
      "metadata": {
        "colab": {
          "base_uri": "https://localhost:8080/"
        },
        "id": "EK5HGK7-pvQP",
        "outputId": "94f946ab-6d15-48e6-e0e8-2bccb43304fe"
      },
      "execution_count": 85,
      "outputs": [
        {
          "output_type": "stream",
          "name": "stdout",
          "text": [
            "Clase predecida: 1\n"
          ]
        }
      ]
    },
    {
      "cell_type": "code",
      "source": [
        "X_train, X_test, y_train, y_test = train_test_split(X, y, test_size=0.2, random_state=8)"
      ],
      "metadata": {
        "id": "7Wvlz9pIpwNS"
      },
      "execution_count": 86,
      "outputs": []
    },
    {
      "cell_type": "code",
      "source": [
        "print(\"Entrenamiento: \", len(X_train), \"%\")\n",
        "print(\"Prueba: \",len(X_test), \"%\")\n"
      ],
      "metadata": {
        "colab": {
          "base_uri": "https://localhost:8080/"
        },
        "outputId": "00f4f1f6-201b-4513-9e1a-2b93757ff8a4",
        "id": "42E6l9Npp9o_"
      },
      "execution_count": 87,
      "outputs": [
        {
          "output_type": "stream",
          "name": "stdout",
          "text": [
            "Entrenamiento:  400 %\n",
            "Prueba:  100 %\n"
          ]
        }
      ]
    },
    {
      "cell_type": "code",
      "source": [
        "dat_train, dat_test = train_test_split(X, test_size=0.2)\n",
        "dat_train, dat_val = train_test_split(dat_train, test_size=0.8)"
      ],
      "metadata": {
        "id": "NSwwXJ5EaVDl"
      },
      "execution_count": 91,
      "outputs": []
    },
    {
      "cell_type": "code",
      "source": [
        "dat_train.shape"
      ],
      "metadata": {
        "colab": {
          "base_uri": "https://localhost:8080/"
        },
        "id": "js8NlTj12psQ",
        "outputId": "167ac77d-6a4e-4a6e-edb5-819aaa5305c9"
      },
      "execution_count": 92,
      "outputs": [
        {
          "output_type": "execute_result",
          "data": {
            "text/plain": [
              "(80, 8)"
            ]
          },
          "metadata": {},
          "execution_count": 92
        }
      ]
    },
    {
      "cell_type": "code",
      "source": [],
      "metadata": {
        "id": "L5mgZ39EzPrz"
      },
      "execution_count": null,
      "outputs": []
    },
    {
      "cell_type": "code",
      "source": [
        "dat_val.shape"
      ],
      "metadata": {
        "colab": {
          "base_uri": "https://localhost:8080/"
        },
        "id": "fMnoYqp_zP4Y",
        "outputId": "9f3fa3c6-c63c-4a43-97d4-1b55983f6e40"
      },
      "execution_count": 93,
      "outputs": [
        {
          "output_type": "execute_result",
          "data": {
            "text/plain": [
              "(320, 8)"
            ]
          },
          "metadata": {},
          "execution_count": 93
        }
      ]
    },
    {
      "cell_type": "code",
      "source": [
        "dat_test.shape"
      ],
      "metadata": {
        "colab": {
          "base_uri": "https://localhost:8080/"
        },
        "id": "PrKCIwr8zUBJ",
        "outputId": "6fb47de5-1ccb-4dec-b01b-4c3c959e292b"
      },
      "execution_count": 94,
      "outputs": [
        {
          "output_type": "execute_result",
          "data": {
            "text/plain": [
              "(100, 8)"
            ]
          },
          "metadata": {},
          "execution_count": 94
        }
      ]
    }
  ]
}